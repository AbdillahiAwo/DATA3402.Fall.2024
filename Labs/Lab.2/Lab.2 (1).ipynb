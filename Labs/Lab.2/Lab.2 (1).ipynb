{
 "cells": [
  {
   "cell_type": "markdown",
   "metadata": {},
   "source": [
    "## Lab 2- Tic Tac Toe\n",
    "\n",
    "In this lab your will build a n x n Tic Tac Toe game. As you do the exercises, make sure your solutions work for any size Tic Tac Toe game. "
   ]
  },
  {
   "cell_type": "markdown",
   "metadata": {},
   "source": [
    "*Exercise 1:* Write a function that creates an n by n matrix (of list of lists) which will represent the state of a Tie Tac Toe game. Let 0, 1, and 2 represent empty, \"X\", and \"O\", respectively.\n"
   ]
  },
  {
   "cell_type": "code",
   "execution_count": 58,
   "metadata": {},
   "outputs": [],
   "source": [
    "# Write you solution here\n",
    "def create_tic_tac_toe_board(n):\n",
    "    # Create an n by n matrix filled with 0 (empty state)\n",
    "    board = [[0 for _ in range(n)] for _ in range(n)]\n",
    "    return board\n"
   ]
  },
  {
   "cell_type": "code",
   "execution_count": 59,
   "metadata": {},
   "outputs": [
    {
     "name": "stdout",
     "output_type": "stream",
     "text": [
      "[0, 0, 0]\n",
      "[0, 0, 0]\n",
      "[0, 0, 0]\n"
     ]
    }
   ],
   "source": [
    "# Test your solution here\n",
    "n = 3\n",
    "board = create_tic_tac_toe_board(n)\n",
    "for row in board:\n",
    "    print(row)"
   ]
  },
  {
   "cell_type": "markdown",
   "metadata": {},
   "source": [
    "*Exercise 2:* Write a function that takes 2 integers `n` and `m` as input and draws a `n` by `m` game board. For example the following is a 3x3 board:\n",
    "```\n",
    "   --- --- --- \n",
    "  |   |   |   | \n",
    "   --- --- ---  \n",
    "  |   |   |   | \n",
    "   --- --- ---  \n",
    "  |   |   |   | \n",
    "   --- --- --- \n",
    "   ```"
   ]
  },
  {
   "cell_type": "code",
   "execution_count": 60,
   "metadata": {},
   "outputs": [],
   "source": [
    "# Write you solution here\n",
    "def draw_game_board(n, m):\n",
    " \n",
    "    horizontal_line = \" ---\" * m\n",
    "    vertical_line = \"|   \" * m + \"|\"\n",
    "    \n",
    "    for i in range(n):\n",
    "        print(horizontal_line) \n",
    "        print(vertical_line)    \n",
    "    print(horizontal_line)     "
   ]
  },
  {
   "cell_type": "code",
   "execution_count": 61,
   "metadata": {},
   "outputs": [
    {
     "name": "stdout",
     "output_type": "stream",
     "text": [
      " --- --- ---\n",
      "|   |   |   |\n",
      " --- --- ---\n",
      "|   |   |   |\n",
      " --- --- ---\n",
      "|   |   |   |\n",
      " --- --- ---\n"
     ]
    }
   ],
   "source": [
    "# Test your solution heredef draw_game_board(n, m):\n",
    "draw_game_board(3, 3)\n"
   ]
  },
  {
   "cell_type": "markdown",
   "metadata": {},
   "source": [
    "*Exercise 3:* Modify exercise 2, so that it takes a matrix of the form from exercise 1 and draws a tic-tac-tie board with \"X\"s and \"O\"s.  "
   ]
  },
  {
   "cell_type": "code",
   "execution_count": 62,
   "metadata": {},
   "outputs": [],
   "source": [
    "# Write you solution here\n",
    "def draw_tic_tac_toe_board(matrix):\n",
    "    n = len(matrix)     \n",
    "    m = len(matrix[0])   \n",
    "    \n",
    "  \n",
    "    horizontal_line = \" ---\" * m\n",
    "    \n",
    "    for i in range(n):\n",
    "        print(horizontal_line) \n",
    "        row_str = \"|\"\n",
    "        for j in range(m):\n",
    "            if matrix[i][j] == 1:\n",
    "                row_str += \" X |\"\n",
    "            elif matrix[i][j] == 2:\n",
    "                row_str += \" O |\"\n",
    "            else:\n",
    "                row_str += \"   |\"\n",
    "        print(row_str)  \n",
    "    print(horizontal_line)  "
   ]
  },
  {
   "cell_type": "code",
   "execution_count": 63,
   "metadata": {},
   "outputs": [
    {
     "name": "stdout",
     "output_type": "stream",
     "text": [
      " --- --- ---\n",
      "|   | X | O |\n",
      " --- --- ---\n",
      "| O | X |   |\n",
      " --- --- ---\n",
      "| X |   | O |\n",
      " --- --- ---\n"
     ]
    }
   ],
   "source": [
    "# Test your solution here\n",
    "board = [\n",
    "    [0, 1, 2],\n",
    "    [2, 1, 0],\n",
    "    [1, 0, 2]\n",
    "]\n",
    "\n",
    "draw_tic_tac_toe_board(board)"
   ]
  },
  {
   "cell_type": "markdown",
   "metadata": {},
   "source": [
    "*Exercise 4:* Write a function that takes a `n` by `n` matrix representing a tic-tac-toe game, and returns -1, 0, 1, or 2 indicating the game is incomplete, the game is a draw, player 1 has won, or player 2 has one, respectively. Here are some example inputs you can use to test your code:"
   ]
  },
  {
   "cell_type": "code",
   "execution_count": 64,
   "metadata": {},
   "outputs": [],
   "source": [
    "# Write you solution here\n",
    "def check_tic_tac_toe_winner(board):\n",
    "    n = len(board)\n",
    "    \n",
    "\n",
    "    for i in range(n):\n",
    "        if all(board[i][j] == 1 for j in range(n)):  # Check if player 1 won by row\n",
    "            return 1\n",
    "        if all(board[i][j] == 2 for j in range(n)):  # Check if player 2 won by row\n",
    "            return 2\n",
    "        if all(board[j][i] == 1 for j in range(n)):  # Check if player 1 won by column\n",
    "            return 1\n",
    "        if all(board[j][i] == 2 for j in range(n)):  # Check if player 2 won by column\n",
    "            return 2\n",
    "    \n",
    "\n",
    "    if all(board[i][i] == 1 for i in range(n)):  # Check if player 1 won by main diagonal\n",
    "        return 1\n",
    "    if all(board[i][i] == 2 for i in range(n)):  # Check if player 2 won by main diagonal\n",
    "        return 2\n",
    "    if all(board[i][n-i-1] == 1 for i in range(n)):  # Check if player 1 won by anti-diagonal\n",
    "        return 1\n",
    "    if all(board[i][n-i-1] == 2 for i in range(n)):  # Check if player 2 won by anti-diagonal\n",
    "        return 2\n",
    "    \n",
    "    if any(board[i][j] == 0 for i in range(n) for j in range(n)):\n",
    "        return -1\n",
    "  \n",
    "    return 0\n"
   ]
  },
  {
   "cell_type": "code",
   "execution_count": 65,
   "metadata": {},
   "outputs": [
    {
     "name": "stdout",
     "output_type": "stream",
     "text": [
      "1\n",
      "1\n",
      "0\n",
      "2\n"
     ]
    }
   ],
   "source": [
    "# Test your solution here\n",
    "board1 = [\n",
    "    [1, 2, 0],\n",
    "    [2, 1, 0],\n",
    "    [0, 0, 1]\n",
    "]  \n",
    "\n",
    "board2 = [\n",
    "    [1, 2, 1],\n",
    "    [2, 1, 2],\n",
    "    [2, 1, 1]\n",
    "]  \n",
    "\n",
    "board3 = [\n",
    "    [1, 2, 1],\n",
    "    [2, 1, 2],\n",
    "    [2, 1, 2]\n",
    "]  \n",
    "\n",
    "board4 = [\n",
    "    [2, 1, 1],\n",
    "    [1, 2, 1],\n",
    "    [1, 2, 2]\n",
    "]  \n",
    "\n",
    "\n",
    "print(check_tic_tac_toe_winner(board1))  \n",
    "print(check_tic_tac_toe_winner(board2))  \n",
    "print(check_tic_tac_toe_winner(board3))  \n",
    "print(check_tic_tac_toe_winner(board4)) "
   ]
  },
  {
   "cell_type": "code",
   "execution_count": 66,
   "metadata": {},
   "outputs": [],
   "source": [
    "winner_is_2 = [[2, 2, 0],\n",
    "\t[2, 1, 0],\n",
    "\t[2, 1, 1]]\n",
    "\n",
    "winner_is_1 = [[1, 2, 0],\n",
    "\t[2, 1, 0],\n",
    "\t[2, 1, 1]]\n",
    "\n",
    "winner_is_also_1 = [[0, 1, 0],\n",
    "\t[2, 1, 0],\n",
    "\t[2, 1, 1]]\n",
    "\n",
    "no_winner = [[1, 2, 0],\n",
    "\t[2, 1, 0],\n",
    "\t[2, 1, 2]]\n",
    "\n",
    "also_no_winner = [[1, 2, 0],\n",
    "\t[2, 1, 0],\n",
    "\t[2, 1, 0]]"
   ]
  },
  {
   "cell_type": "markdown",
   "metadata": {},
   "source": [
    "*Exercise 5:* Write a function that takes a game board, player number, and `(x,y)` coordinates and places \"X\" or \"O\" in the correct location of the game board. Make sure that you only allow filling previously empty locations. Return `True` or `False` to indicate successful placement of \"X\" or \"O\"."
   ]
  },
  {
   "cell_type": "code",
   "execution_count": 67,
   "metadata": {},
   "outputs": [],
   "source": [
    "# Write you solution here\n",
    "def place_move(board, player, x, y):\n",
    "    # Ensure player is valid (1 or 2)\n",
    "    if player not in [1, 2]:\n",
    "        return False\n",
    "\n",
    "\n",
    "    n = len(board)\n",
    "    if x < 0 or x >= n or y < 0 or y >= n:\n",
    "        return False\n",
    "\n",
    "\n",
    "    if board[x][y] == 0:\n",
    "        board[x][y] = player \n",
    "        return True\n",
    "    else:\n",
    "        return False  "
   ]
  },
  {
   "cell_type": "code",
   "execution_count": 68,
   "metadata": {},
   "outputs": [
    {
     "name": "stdout",
     "output_type": "stream",
     "text": [
      "True\n",
      "False\n",
      "True\n",
      "[0, 1, 2]\n",
      "[2, 1, 2]\n",
      "[1, 1, 2]\n"
     ]
    }
   ],
   "source": [
    "# Test your solution here\n",
    "game_board = [\n",
    "    [0, 1, 2],\n",
    "    [2, 1, 0],\n",
    "    [1, 0, 2]\n",
    "]\n",
    "\n",
    "\n",
    "print(place_move(game_board, 1, 2, 1))  \n",
    "print(place_move(game_board, 2, 0, 1))  \n",
    "print(place_move(game_board, 2, 1, 2))  \n",
    "\n",
    "\n",
    "for row in game_board:\n",
    "    print(row)"
   ]
  },
  {
   "cell_type": "markdown",
   "metadata": {},
   "source": [
    "*Exercise 6:* Modify Exercise 4 to show column and row labels so that players can specify location using \"A2\" or \"C1\"."
   ]
  },
  {
   "cell_type": "code",
   "execution_count": 69,
   "metadata": {},
   "outputs": [],
   "source": [
    "# Write you solution here\n",
    "def place_move_with_labels(board, player, position):\n",
    "\n",
    "    if player not in [1, 2]:\n",
    "        return False\n",
    "\n",
    "\n",
    "    row_labels = \"ABCDEFGHIJKLMNOPQRSTUVWXYZ\"\n",
    "    col_labels = \"123456789\"  \n",
    "\n",
    " \n",
    "    if len(position) != 2 or position[0].upper() not in row_labels[:len(board)] or position[1] not in col_labels[:len(board)]:\n",
    "        return False\n",
    "\n",
    "\n",
    "    x = row_labels.index(position[0].upper())\n",
    "    y = int(position[1]) - 1\n",
    "\n",
    "\n",
    "    if board[x][y] == 0:\n",
    "        board[x][y] = player \n",
    "        return True\n",
    "    else:\n",
    "        return False  \n",
    "\n",
    "def draw_tic_tac_toe_board_with_labels(board):\n",
    "    n = len(board)\n",
    "    \n",
    "\n",
    "    row_labels = \"ABCDEFGHIJKLMNOPQRSTUVWXYZ\"\n",
    "    col_labels = \" \".join(str(i + 1) for i in range(n))\n",
    "    \n",
    "\n",
    "    print(\"   \" + col_labels)\n",
    "    \n",
    "    horizontal_line = \" ---\" * n\n",
    "    \n",
    "    for i in range(n):\n",
    "        print(\" \" + horizontal_line)  \n",
    "        row_str = row_labels[i] + \" |\"\n",
    "        for j in range(n):\n",
    "            if board[i][j] == 1:\n",
    "                row_str += \" X |\"\n",
    "            elif board[i][j] == 2:\n",
    "                row_str += \" O |\"\n",
    "            else:\n",
    "                row_str += \"   |\"\n",
    "        print(row_str)  \n",
    "    print(\" \" + horizontal_line)  \n"
   ]
  },
  {
   "cell_type": "code",
   "execution_count": 70,
   "metadata": {},
   "outputs": [
    {
     "name": "stdout",
     "output_type": "stream",
     "text": [
      "   1 2 3\n",
      "  --- --- ---\n",
      "A |   | X | O |\n",
      "  --- --- ---\n",
      "B | O | X |   |\n",
      "  --- --- ---\n",
      "C | X |   | O |\n",
      "  --- --- ---\n",
      "True\n",
      "True\n",
      "False\n",
      "   1 2 3\n",
      "  --- --- ---\n",
      "A | O | X | O |\n",
      "  --- --- ---\n",
      "B | O | X |   |\n",
      "  --- --- ---\n",
      "C | X | X | O |\n",
      "  --- --- ---\n"
     ]
    }
   ],
   "source": [
    "# Test your solution here\n",
    "game_board = [\n",
    "    [0, 1, 2],\n",
    "    [2, 1, 0],\n",
    "    [1, 0, 2]\n",
    "]\n",
    "\n",
    "\n",
    "draw_tic_tac_toe_board_with_labels(game_board)\n",
    "\n",
    "\n",
    "print(place_move_with_labels(game_board, 1, \"C2\"))  \n",
    "print(place_move_with_labels(game_board, 2, \"A1\"))  \n",
    "print(place_move_with_labels(game_board, 2, \"A2\"))  \n",
    "\n",
    "\n",
    "draw_tic_tac_toe_board_with_labels(game_board)"
   ]
  },
  {
   "cell_type": "markdown",
   "metadata": {},
   "source": [
    "*Exercise 7:* Write a function that takes a board, player number, and location specified as in exercise 6 and then calls exercise 5 to correctly modify the board.  "
   ]
  },
  {
   "cell_type": "code",
   "execution_count": 71,
   "metadata": {},
   "outputs": [],
   "source": [
    "# Write you solution here\n",
    "def modify_board(board, player, position):\n",
    "\n",
    "    row_labels = \"ABCDEFGHIJKLMNOPQRSTUVWXYZ\"\n",
    "    col_labels = \"123456789\"\n",
    "\n",
    "\n",
    "    if player not in [1, 2]:\n",
    "        return False\n",
    "\n",
    "\n",
    "    if len(position) != 2 or position[0].upper() not in row_labels[:len(board)] or position[1] not in col_labels[:len(board)]:\n",
    "        return False\n",
    "\n",
    "\n",
    "    x = row_labels.index(position[0].upper())\n",
    "    y = int(position[1]) - 1\n",
    "\n",
    "    \n",
    "    return place_move(board, player, x, y)\n",
    "\n",
    "\n",
    "def place_move(board, player, x, y):\n",
    "\n",
    "    n = len(board)\n",
    "    if x < 0 or x >= n or y < 0 or y >= n:\n",
    "        return False\n",
    "\n",
    "\n",
    "    if board[x][y] == 0:\n",
    "        board[x][y] = player \n",
    "        return True\n",
    "    else:\n",
    "        return False  \n"
   ]
  },
  {
   "cell_type": "code",
   "execution_count": 72,
   "metadata": {},
   "outputs": [
    {
     "name": "stdout",
     "output_type": "stream",
     "text": [
      "True\n",
      "True\n",
      "False\n",
      "[2, 1, 2]\n",
      "[2, 1, 0]\n",
      "[1, 1, 2]\n"
     ]
    }
   ],
   "source": [
    "# Test your solution here\n",
    "\n",
    "game_board = [\n",
    "    [0, 1, 2],\n",
    "    [2, 1, 0],\n",
    "    [1, 0, 2]\n",
    "]\n",
    "\n",
    "\n",
    "print(modify_board(game_board, 1, \"C2\"))  \n",
    "print(modify_board(game_board, 2, \"A1\"))  \n",
    "print(modify_board(game_board, 2, \"A2\"))  \n",
    "\n",
    "\n",
    "for row in game_board:\n",
    "    print(row)"
   ]
  },
  {
   "cell_type": "markdown",
   "metadata": {},
   "source": [
    "*Exercise 8:* Write a function is called with a board and player number, takes input from the player using python's `input`, and modifies the board using your function from exercise 7. Note that you should keep asking for input until you have gotten a valid input that results in a valid move."
   ]
  },
  {
   "cell_type": "code",
   "execution_count": 73,
   "metadata": {},
   "outputs": [],
   "source": [
    "# Write you solution here\n",
    "def player_move(board, player):\n",
    "    while True:\n",
    " \n",
    "        position = input(f\"Player {player} ('{'X' if player == 1 else 'O'}'), enter your move (e.g., A2): \").strip()\n",
    "\n",
    "\n",
    "        if modify_board(board, player, position):\n",
    "            print(f\"Move accepted: {position}\")\n",
    "            break\n",
    "        else:\n",
    "            print(f\"Invalid move: {position}. Please try again.\")\n",
    "\n",
    "\n",
    "def modify_board(board, player, position):\n",
    "\n",
    "    row_labels = \"ABCDEFGHIJKLMNOPQRSTUVWXYZ\"\n",
    "    col_labels = \"123456789\"\n",
    "\n",
    " \n",
    "    if player not in [1, 2]:\n",
    "        return False\n",
    "\n",
    " \n",
    "    if len(position) != 2 or position[0].upper() not in row_labels[:len(board)] or position[1] not in col_labels[:len(board)]:\n",
    "        return False\n",
    "\n",
    "\n",
    "    x = row_labels.index(position[0].upper())\n",
    "    y = int(position[1]) - 1\n",
    "\n",
    " \n",
    "    return place_move(board, player, x, y)\n",
    "\n",
    "\n",
    "def place_move(board, player, x, y):\n",
    "\n",
    "    n = len(board)\n",
    "    if x < 0 or x >= n or y < 0 or y >= n:\n",
    "        return False\n",
    "\n",
    "\n",
    "    if board[x][y] == 0:\n",
    "        board[x][y] = player  \n",
    "        return True\n",
    "    else:\n",
    "        return False  \n"
   ]
  },
  {
   "cell_type": "code",
   "execution_count": 75,
   "metadata": {},
   "outputs": [
    {
     "name": "stdin",
     "output_type": "stream",
     "text": [
      "Player 1 ('X'), enter your move (e.g., A2):  A1\n"
     ]
    },
    {
     "name": "stdout",
     "output_type": "stream",
     "text": [
      "Move accepted: A1\n",
      "[1, 1, 2]\n",
      "[2, 1, 0]\n",
      "[1, 0, 2]\n"
     ]
    }
   ],
   "source": [
    "# Test your solution here\n",
    "game_board = [\n",
    "    [0, 1, 2],\n",
    "    [2, 1, 0],\n",
    "    [1, 0, 2]\n",
    "]\n",
    "\n",
    "\n",
    "player_move(game_board, 1)\n",
    "\n",
    "\n",
    "for row in game_board:\n",
    "    print(row)"
   ]
  },
  {
   "cell_type": "markdown",
   "metadata": {},
   "source": [
    "*Exercise 9:* Use all of the previous exercises to implement a full tic-tac-toe game, where an appropriate board is drawn, 2 players are repeatedly asked for a location coordinates of where they wish to place a mark, and the game status is checked until a player wins or a draw occurs."
   ]
  },
  {
   "cell_type": "code",
   "execution_count": 76,
   "metadata": {},
   "outputs": [
    {
     "name": "stdout",
     "output_type": "stream",
     "text": [
      "   1 2 3\n",
      "  --- --- ---\n",
      "A |   |   |   |\n",
      "  --- --- ---\n",
      "B |   |   |   |\n",
      "  --- --- ---\n",
      "C |   |   |   |\n",
      "  --- --- ---\n"
     ]
    },
    {
     "name": "stdin",
     "output_type": "stream",
     "text": [
      "Player 1 ('X'), enter your move (e.g., A2):  A1\n"
     ]
    },
    {
     "name": "stdout",
     "output_type": "stream",
     "text": [
      "Move accepted: A1\n",
      "   1 2 3\n",
      "  --- --- ---\n",
      "A | X |   |   |\n",
      "  --- --- ---\n",
      "B |   |   |   |\n",
      "  --- --- ---\n",
      "C |   |   |   |\n",
      "  --- --- ---\n"
     ]
    },
    {
     "name": "stdin",
     "output_type": "stream",
     "text": [
      "Player 2 ('O'), enter your move (e.g., A2):  A2\n"
     ]
    },
    {
     "name": "stdout",
     "output_type": "stream",
     "text": [
      "Move accepted: A2\n",
      "   1 2 3\n",
      "  --- --- ---\n",
      "A | X | O |   |\n",
      "  --- --- ---\n",
      "B |   |   |   |\n",
      "  --- --- ---\n",
      "C |   |   |   |\n",
      "  --- --- ---\n"
     ]
    },
    {
     "name": "stdin",
     "output_type": "stream",
     "text": [
      "Player 1 ('X'), enter your move (e.g., A2):  B2\n"
     ]
    },
    {
     "name": "stdout",
     "output_type": "stream",
     "text": [
      "Move accepted: B2\n",
      "   1 2 3\n",
      "  --- --- ---\n",
      "A | X | O |   |\n",
      "  --- --- ---\n",
      "B |   | X |   |\n",
      "  --- --- ---\n",
      "C |   |   |   |\n",
      "  --- --- ---\n"
     ]
    },
    {
     "name": "stdin",
     "output_type": "stream",
     "text": [
      "Player 2 ('O'), enter your move (e.g., A2):  B2\n"
     ]
    },
    {
     "name": "stdout",
     "output_type": "stream",
     "text": [
      "Invalid move: B2. Please try again.\n"
     ]
    },
    {
     "name": "stdin",
     "output_type": "stream",
     "text": [
      "Player 2 ('O'), enter your move (e.g., A2):  B3\n"
     ]
    },
    {
     "name": "stdout",
     "output_type": "stream",
     "text": [
      "Move accepted: B3\n",
      "   1 2 3\n",
      "  --- --- ---\n",
      "A | X | O |   |\n",
      "  --- --- ---\n",
      "B |   | X | O |\n",
      "  --- --- ---\n",
      "C |   |   |   |\n",
      "  --- --- ---\n"
     ]
    },
    {
     "name": "stdin",
     "output_type": "stream",
     "text": [
      "Player 1 ('X'), enter your move (e.g., A2):  C3\n"
     ]
    },
    {
     "name": "stdout",
     "output_type": "stream",
     "text": [
      "Move accepted: C3\n",
      "   1 2 3\n",
      "  --- --- ---\n",
      "A | X | O |   |\n",
      "  --- --- ---\n",
      "B |   | X | O |\n",
      "  --- --- ---\n",
      "C |   |   | X |\n",
      "  --- --- ---\n",
      "Player 1 ('X') wins!\n"
     ]
    }
   ],
   "source": [
    "# Write you solution here\n",
    "def draw_tic_tac_toe_board_with_labels(board):\n",
    "    n = len(board)\n",
    "    \n",
    "    row_labels = \"ABCDEFGHIJKLMNOPQRSTUVWXYZ\"\n",
    "    col_labels = \" \".join(str(i + 1) for i in range(n))\n",
    "    \n",
    "\n",
    "    print(\"   \" + col_labels)\n",
    "    \n",
    "    horizontal_line = \" ---\" * n\n",
    "    \n",
    "    for i in range(n):\n",
    "        print(\" \" + horizontal_line) \n",
    "        row_str = row_labels[i] + \" |\"\n",
    "        for j in range(n):\n",
    "            if board[i][j] == 1:\n",
    "                row_str += \" X |\"\n",
    "            elif board[i][j] == 2:\n",
    "                row_str += \" O |\"\n",
    "            else:\n",
    "                row_str += \"   |\"\n",
    "        print(row_str)  \n",
    "    print(\" \" + horizontal_line) \n",
    "\n",
    "\n",
    "def check_tic_tac_toe_winner(board):\n",
    "    n = len(board)\n",
    "    \n",
    "\n",
    "    for i in range(n):\n",
    "        if all(board[i][j] == 1 for j in range(n)):  \n",
    "            return 1\n",
    "        if all(board[i][j] == 2 for j in range(n)):  \n",
    "            return 2\n",
    "        if all(board[j][i] == 1 for j in range(n)):  \n",
    "            return 1\n",
    "        if all(board[j][i] == 2 for j in range(n)): \n",
    "            return 2\n",
    "    \n",
    "    # Check diagonals for a winner\n",
    "    if all(board[i][i] == 1 for i in range(n)):  \n",
    "        return 1\n",
    "    if all(board[i][i] == 2 for i in range(n)):  \n",
    "        return 2\n",
    "    if all(board[i][n-i-1] == 1 for i in range(n)):  \n",
    "        return 1\n",
    "    if all(board[i][n-i-1] == 2 for i in range(n)):  \n",
    "        return 2\n",
    "    \n",
    "\n",
    "    if any(board[i][j] == 0 for i in range(n) for j in range(n)):\n",
    "        return -1\n",
    "    \n",
    "\n",
    "    return 0\n",
    "\n",
    "\n",
    "def modify_board(board, player, position):\n",
    "\n",
    "    row_labels = \"ABCDEFGHIJKLMNOPQRSTUVWXYZ\"\n",
    "    col_labels = \"123456789\"\n",
    "\n",
    "\n",
    "    if player not in [1, 2]:\n",
    "        return False\n",
    "\n",
    "\n",
    "    if len(position) != 2 or position[0].upper() not in row_labels[:len(board)] or position[1] not in col_labels[:len(board)]:\n",
    "        return False\n",
    "\n",
    "\n",
    "    x = row_labels.index(position[0].upper())\n",
    "    y = int(position[1]) - 1\n",
    "\n",
    "\n",
    "    return place_move(board, player, x, y)\n",
    "\n",
    "\n",
    "def place_move(board, player, x, y):\n",
    "   \n",
    "    n = len(board)\n",
    "    if x < 0 or x >= n or y < 0 or y >= n:\n",
    "        return False\n",
    "\n",
    "    # Check if the spot is empty\n",
    "    if board[x][y] == 0:\n",
    "        board[x][y] = player  \n",
    "        return True\n",
    "    else:\n",
    "        return False  \n",
    "\n",
    "\n",
    "def player_move(board, player):\n",
    "    while True:\n",
    "    \n",
    "        position = input(f\"Player {player} ('{'X' if player == 1 else 'O'}'), enter your move (e.g., A2): \").strip()\n",
    "\n",
    "\n",
    "        if modify_board(board, player, position):\n",
    "            print(f\"Move accepted: {position}\")\n",
    "            break\n",
    "        else:\n",
    "            print(f\"Invalid move: {position}. Please try again.\")\n",
    "\n",
    "\n",
    "def tic_tac_toe_game():\n",
    "\n",
    "    board_size = 3\n",
    "    board = [[0 for _ in range(board_size)] for _ in range(board_size)]\n",
    "    \n",
    "    current_player = 1 \n",
    "    game_status = -1  \n",
    "\n",
    "\n",
    "    while game_status == -1:\n",
    "\n",
    "        draw_tic_tac_toe_board_with_labels(board)\n",
    "        \n",
    "\n",
    "        player_move(board, current_player)\n",
    "\n",
    "\n",
    "        game_status = check_tic_tac_toe_winner(board)\n",
    "\n",
    "\n",
    "        current_player = 2 if current_player == 1 else 1\n",
    "\n",
    "\n",
    "    draw_tic_tac_toe_board_with_labels(board)\n",
    "\n",
    "\n",
    "    if game_status == 1:\n",
    "        print(\"Player 1 ('X') wins!\")\n",
    "    elif game_status == 2:\n",
    "        print(\"Player 2 ('O') wins!\")\n",
    "    else:\n",
    "        print(\"The game is a draw!\")\n",
    "\n",
    "\n",
    "\n",
    "tic_tac_toe_game()\n"
   ]
  },
  {
   "cell_type": "code",
   "execution_count": null,
   "metadata": {
    "collapsed": true,
    "jupyter": {
     "outputs_hidden": true
    }
   },
   "outputs": [],
   "source": [
    "# Test your solution here"
   ]
  },
  {
   "cell_type": "markdown",
   "metadata": {},
   "source": [
    "*Exercise 10:* Test that your game works for 5x5 Tic Tac Toe.  "
   ]
  },
  {
   "cell_type": "code",
   "execution_count": 78,
   "metadata": {},
   "outputs": [
    {
     "ename": "SyntaxError",
     "evalue": "unterminated string literal (detected at line 11) (3456646546.py, line 11)",
     "output_type": "error",
     "traceback": [
      "\u001b[0;36m  Cell \u001b[0;32mIn[78], line 11\u001b[0;36m\u001b[0m\n\u001b[0;31m    *(Place, a, Player's, Move, */)\u001b[0m\n\u001b[0m                      ^\u001b[0m\n\u001b[0;31mSyntaxError\u001b[0m\u001b[0;31m:\u001b[0m unterminated string literal (detected at line 11)\n"
     ]
    }
   ],
   "source": [
    "import random\n",
    "\n",
    "# Function to draw the board with row and column labels\n",
    "def draw_tic_tac_toe_board_with_labels(board):\n",
    "    board_size = len(board)\n",
    "    \n",
    "    # Print column numbers\n",
    "    print(\"   \" + \" \".join(str(i + 1) for i in range(board_size)))\n",
    "    \n",
    "    # Print board with row labels (A, B, C, etc.)\n",
    "    for i in range(board_size):\n",
    "        print(\"  \" + \"--- \" * board_size)\n",
    "        row_label = chr(65 + i)\n",
    "        row = \" | \".join([\" \" if x == 0 else (\"X\" if x == 1 else \"O\") for x in board[i]])\n",
    "        print(f\"{row_label} | {row} |\")\n",
    "    print(\"  \" + \"--- \" * board_size)\n",
    "\n",
    "# Function for the player to move by providing coordinates like \"A2\" or \"C1\"\n",
    "def player_move(board, player, move):\n",
    "    move = move.upper()\n",
    "    if len(move) == 2 and move[0] in \"ABCDE\" and move[1].isdigit():\n",
    "        row = ord(move[0]) - 65\n",
    "        col = int(move[1]) - 1\n",
    "        if row < len(board) and col < len(board) and board[row][col] == 0:\n",
    "            board[row][col] = player\n",
    "            print(f\"Move accepted: {move}\")\n",
    "            return True\n",
    "    print(\"Invalid move. Please try again.\")\n",
    "    return False\n",
    "\n",
    "# Function to check if there is a winner or if the game is still ongoing\n",
    "def check_tic_tac_toe_winner(board):\n",
    "    board_size = len(board)\n",
    "    \n",
    "    # Check rows and columns\n",
    "    for i in range(board_size):\n",
    "        if board[i].count(board[i][0]) == board_size and board[i][0] != 0:\n",
    "            return board[i][0]\n",
    "        col = [board[j][i] for j in range(board_size)]\n",
    "        if col.count(col[0]) == board_size and col[0] != 0:\n",
    "            return col[0]\n",
    "    \n",
    "    # Check diagonals\n",
    "    if all(board[i][i] == board[0][0] and board[i][i] != 0 for i in range(board_size)):\n",
    "        return board[0][0]\n",
    "    if all(board[i][board_size - 1 - i] == board[0][board_size - 1] and board[i][board_size - 1 - i] != 0 for i in range(board_size)):\n",
    "        return board[0][board_size - 1]\n",
    "    \n",
    "    # Check for draw (if no empty spots)\n",
    "    if all(board[i][j] != 0 for i in range(board_size) for j in range(board_size)):\n",
    "        return 0\n",
    "    \n",
    "    # Game is still ongoing\n",
    "    return -1\n",
    "\n",
    "# Function for the computer to move\n",
    "def computer_move(board, player):\n",
    "    opponent = 2 if player == 1 else 1\n",
    "    \n",
    "    # Step 1: Try to win by completing a row, column, or diagonal\n",
    "    for i in range(len(board)):\n",
    "        # Check rows for winning move\n",
    "        if board[i].count(player) == len(board) - 1 and board[i].count(0) == 1:\n",
    "            return place_computer_move(board, i, board[i].index(0))\n",
    "        \n",
    "        # Check columns for winning move\n",
    "        col = [board[j][i] for j in range(len(board))]\n",
    "        if col.count(player) == len(board) - 1 and col.count(0) == 1:\n",
    "            return place_computer_move(board, col.index(0), i)\n",
    "    \n",
    "    # Check diagonals for winning move\n",
    "    main_diag = [board[i][i] for i in range(len(board))]\n",
    "    anti_diag = [board[i][len(board) - 1 - i] for i in range(len(board))]\n",
    "    \n",
    "    if main_diag.count(player) == len(board) - 1 and main_diag.count(0) == 1:\n",
    "        return place_computer_move(board, main_diag.index(0), main_diag.index(0))\n",
    "    if anti_diag.count(player) == len(board) - 1 and anti_diag.count(0) == 1:\n",
    "        idx = anti_diag.index(0)\n",
    "        return place_computer_move(board, idx, len(board) - 1 - idx)\n",
    "\n",
    "    # Step 2: Block opponent's winning move\n",
    "    for i in range(len(board)):\n",
    "        # Block rows\n",
    "        if board[i].count(opponent) == len(board) - 1 and board[i].count(0) == 1:\n",
    "            return place_computer_move(board, i, board[i].index(0))\n",
    "        \n",
    "        # Block columns\n",
    "        col = [board[j][i] for j in range(len(board))]\n",
    "        if col.count(opponent) == len(board) - 1 and col.count(0) == 1:\n",
    "            return place_computer_move(board, col.index(0), i)\n",
    "    \n",
    "    # Block diagonals\n",
    "    if main_diag.count(opponent) == len(board) - 1 and main_diag.count(0) == 1:\n",
    "        return place_computer_move(board, main_diag.index(0), main_diag.index(0))\n",
    "    if anti_diag.count(opponent) == len(board) - 1 and anti_diag.count(0) == 1:\n",
    "        idx = anti_diag.index(0)\n",
    "        return place_computer_move(board, idx, len(board) - 1 - idx)\n",
    "\n",
    "\n",
    "    return make_random_move(board)\n",
    "\n",
    "def place_computer_move(board, x, y):\n",
    "    if board[x][y] == 0:\n",
    "        board[x][y] = 2  \n",
    "        print(f\"Computer places 'O' at {chr(x + 65)}{y + 1}\")\n",
    "        return True\n",
    "    return False\n",
    "\n",
    "def make_random_move(board):\n",
    "    empty_positions = [(i, j) for i in range(len(board)) for j in range(len(board[i])) if board[i][j] == 0]\n",
    "    if empty_positions:\n",
    "        x, y = random.choice(empty_positions)\n",
    "        board[x][y] = 2  \n",
    "        print(f\"Computer places 'O' at {chr(x + 65)}{y + 1}\")\n",
    "        return True\n",
    "    return False\n",
    "\n",
    "\n",
    "def tic_tac_toe_game_with_computer(moves):\n",
    "    # Initialize a 5x5 board\n",
    "    board_size = 5\n",
    "    board = [[0 for _ in range(board_size)] for _ in range(board_size)]\n",
    "    \n",
    "    game_status = -1  \n",
    "    human_player = 1\n",
    "    computer_player = 2\n",
    "    current_player = human_player  \n",
    "\n",
    "\n",
    "    move_index = 0\n",
    "    while game_status == -1 and move_index < len(moves):\n",
    " \n",
    "        draw_tic_tac_toe_board_with_labels(board)\n",
    "        \n",
    "        if current_player == human_player:\n",
    "\n",
    "            move = moves[move_index]\n",
    "            success = player_move(board, human_player, move)\n",
    "            if success:\n",
    "                move_index += 1\n",
    "        else:\n",
    "\n",
    "            computer_move(board, computer_player)\n",
    "\n",
    "        game_status = check_tic_tac_toe_winner(board)\n",
    "\n",
    "        current_player = computer_player if current_player == human_player else human_player\n",
    "\n",
    "    draw_tic_tac_toe_board_with_labels(board)\n",
    "\n",
    "    if game_status == 1:\n",
    "        print(\"Player 1 ('X') wins!\")\n",
    "    elif game_status == 2:\n",
    "        print(\"Computer ('O') wins!\")\n",
    "    else:\n",
    "        print(\"The game is a draw!\")\n",
    "\n",
    "test_moves = ['A1', 'B2', 'C3', 'D4', 'E5'] \n",
    "tic_tac_toe_game_with_computer(test_moves)\n"
   ]
  },
  {
   "cell_type": "markdown",
   "metadata": {},
   "source": [
    "*Exercise 11:* (Advanced / Challenge) Develop a version of the game where one player is the computer. Note that you don't need to do an extensive seach for the best move. You can have the computer simply protect against loosing and otherwise try to win with straight or diagonal patterns."
   ]
  },
  {
   "cell_type": "markdown",
   "metadata": {},
   "source": [
    "## "
   ]
  },
  {
   "cell_type": "code",
   "execution_count": 26,
   "metadata": {},
   "outputs": [
    {
     "name": "stdout",
     "output_type": "stream",
     "text": [
      "   1 2 3 4 5\n",
      "  --- --- --- --- --- \n",
      "A |   |   |   |   |   |\n",
      "  --- --- --- --- --- \n",
      "B |   |   |   |   |   |\n",
      "  --- --- --- --- --- \n",
      "C |   |   |   |   |   |\n",
      "  --- --- --- --- --- \n",
      "D |   |   |   |   |   |\n",
      "  --- --- --- --- --- \n",
      "E |   |   |   |   |   |\n",
      "  --- --- --- --- --- \n"
     ]
    },
    {
     "name": "stdin",
     "output_type": "stream",
     "text": [
      "Player 1 ('X'), enter your move (e.g., A2):  A1\n"
     ]
    },
    {
     "name": "stdout",
     "output_type": "stream",
     "text": [
      "Move accepted: A1\n",
      "   1 2 3 4 5\n",
      "  --- --- --- --- --- \n",
      "A | X |   |   |   |   |\n",
      "  --- --- --- --- --- \n",
      "B |   |   |   |   |   |\n",
      "  --- --- --- --- --- \n",
      "C |   |   |   |   |   |\n",
      "  --- --- --- --- --- \n",
      "D |   |   |   |   |   |\n",
      "  --- --- --- --- --- \n",
      "E |   |   |   |   |   |\n",
      "  --- --- --- --- --- \n",
      "Computer places 'O' at B3\n",
      "   1 2 3 4 5\n",
      "  --- --- --- --- --- \n",
      "A | X |   |   |   |   |\n",
      "  --- --- --- --- --- \n",
      "B |   |   | O |   |   |\n",
      "  --- --- --- --- --- \n",
      "C |   |   |   |   |   |\n",
      "  --- --- --- --- --- \n",
      "D |   |   |   |   |   |\n",
      "  --- --- --- --- --- \n",
      "E |   |   |   |   |   |\n",
      "  --- --- --- --- --- \n"
     ]
    },
    {
     "name": "stdin",
     "output_type": "stream",
     "text": [
      "Player 1 ('X'), enter your move (e.g., A2):  A3\n"
     ]
    },
    {
     "name": "stdout",
     "output_type": "stream",
     "text": [
      "Move accepted: A3\n",
      "   1 2 3 4 5\n",
      "  --- --- --- --- --- \n",
      "A | X |   | X |   |   |\n",
      "  --- --- --- --- --- \n",
      "B |   |   | O |   |   |\n",
      "  --- --- --- --- --- \n",
      "C |   |   |   |   |   |\n",
      "  --- --- --- --- --- \n",
      "D |   |   |   |   |   |\n",
      "  --- --- --- --- --- \n",
      "E |   |   |   |   |   |\n",
      "  --- --- --- --- --- \n",
      "Computer places 'O' at E5\n",
      "   1 2 3 4 5\n",
      "  --- --- --- --- --- \n",
      "A | X |   | X |   |   |\n",
      "  --- --- --- --- --- \n",
      "B |   |   | O |   |   |\n",
      "  --- --- --- --- --- \n",
      "C |   |   |   |   |   |\n",
      "  --- --- --- --- --- \n",
      "D |   |   |   |   |   |\n",
      "  --- --- --- --- --- \n",
      "E |   |   |   |   | O |\n",
      "  --- --- --- --- --- \n"
     ]
    },
    {
     "name": "stdin",
     "output_type": "stream",
     "text": [
      "Player 1 ('X'), enter your move (e.g., A2):  A2\n"
     ]
    },
    {
     "name": "stdout",
     "output_type": "stream",
     "text": [
      "Move accepted: A2\n",
      "   1 2 3 4 5\n",
      "  --- --- --- --- --- \n",
      "A | X | X | X |   |   |\n",
      "  --- --- --- --- --- \n",
      "B |   |   | O |   |   |\n",
      "  --- --- --- --- --- \n",
      "C |   |   |   |   |   |\n",
      "  --- --- --- --- --- \n",
      "D |   |   |   |   |   |\n",
      "  --- --- --- --- --- \n",
      "E |   |   |   |   | O |\n",
      "  --- --- --- --- --- \n",
      "Computer places 'O' at D3\n",
      "   1 2 3 4 5\n",
      "  --- --- --- --- --- \n",
      "A | X | X | X |   |   |\n",
      "  --- --- --- --- --- \n",
      "B |   |   | O |   |   |\n",
      "  --- --- --- --- --- \n",
      "C |   |   |   |   |   |\n",
      "  --- --- --- --- --- \n",
      "D |   |   | O |   |   |\n",
      "  --- --- --- --- --- \n",
      "E |   |   |   |   | O |\n",
      "  --- --- --- --- --- \n"
     ]
    },
    {
     "name": "stdin",
     "output_type": "stream",
     "text": [
      "Player 1 ('X'), enter your move (e.g., A2):  A4\n"
     ]
    },
    {
     "name": "stdout",
     "output_type": "stream",
     "text": [
      "Move accepted: A4\n",
      "   1 2 3 4 5\n",
      "  --- --- --- --- --- \n",
      "A | X | X | X | X |   |\n",
      "  --- --- --- --- --- \n",
      "B |   |   | O |   |   |\n",
      "  --- --- --- --- --- \n",
      "C |   |   |   |   |   |\n",
      "  --- --- --- --- --- \n",
      "D |   |   | O |   |   |\n",
      "  --- --- --- --- --- \n",
      "E |   |   |   |   | O |\n",
      "  --- --- --- --- --- \n",
      "Computer places 'O' at A5\n",
      "   1 2 3 4 5\n",
      "  --- --- --- --- --- \n",
      "A | X | X | X | X | O |\n",
      "  --- --- --- --- --- \n",
      "B |   |   | O |   |   |\n",
      "  --- --- --- --- --- \n",
      "C |   |   |   |   |   |\n",
      "  --- --- --- --- --- \n",
      "D |   |   | O |   |   |\n",
      "  --- --- --- --- --- \n",
      "E |   |   |   |   | O |\n",
      "  --- --- --- --- --- \n"
     ]
    },
    {
     "name": "stdin",
     "output_type": "stream",
     "text": [
      "Player 1 ('X'), enter your move (e.g., A2):  C3\n"
     ]
    },
    {
     "name": "stdout",
     "output_type": "stream",
     "text": [
      "Move accepted: C3\n",
      "   1 2 3 4 5\n",
      "  --- --- --- --- --- \n",
      "A | X | X | X | X | O |\n",
      "  --- --- --- --- --- \n",
      "B |   |   | O |   |   |\n",
      "  --- --- --- --- --- \n",
      "C |   |   | X |   |   |\n",
      "  --- --- --- --- --- \n",
      "D |   |   | O |   |   |\n",
      "  --- --- --- --- --- \n",
      "E |   |   |   |   | O |\n",
      "  --- --- --- --- --- \n",
      "Computer places 'O' at B2\n",
      "   1 2 3 4 5\n",
      "  --- --- --- --- --- \n",
      "A | X | X | X | X | O |\n",
      "  --- --- --- --- --- \n",
      "B |   | O | O |   |   |\n",
      "  --- --- --- --- --- \n",
      "C |   |   | X |   |   |\n",
      "  --- --- --- --- --- \n",
      "D |   |   | O |   |   |\n",
      "  --- --- --- --- --- \n",
      "E |   |   |   |   | O |\n",
      "  --- --- --- --- --- \n"
     ]
    },
    {
     "name": "stdin",
     "output_type": "stream",
     "text": [
      "Player 1 ('X'), enter your move (e.g., A2):  B1\n"
     ]
    },
    {
     "name": "stdout",
     "output_type": "stream",
     "text": [
      "Move accepted: B1\n",
      "   1 2 3 4 5\n",
      "  --- --- --- --- --- \n",
      "A | X | X | X | X | O |\n",
      "  --- --- --- --- --- \n",
      "B | X | O | O |   |   |\n",
      "  --- --- --- --- --- \n",
      "C |   |   | X |   |   |\n",
      "  --- --- --- --- --- \n",
      "D |   |   | O |   |   |\n",
      "  --- --- --- --- --- \n",
      "E |   |   |   |   | O |\n",
      "  --- --- --- --- --- \n",
      "Computer places 'O' at D1\n",
      "   1 2 3 4 5\n",
      "  --- --- --- --- --- \n",
      "A | X | X | X | X | O |\n",
      "  --- --- --- --- --- \n",
      "B | X | O | O |   |   |\n",
      "  --- --- --- --- --- \n",
      "C |   |   | X |   |   |\n",
      "  --- --- --- --- --- \n",
      "D | O |   | O |   |   |\n",
      "  --- --- --- --- --- \n",
      "E |   |   |   |   | O |\n",
      "  --- --- --- --- --- \n"
     ]
    },
    {
     "name": "stdin",
     "output_type": "stream",
     "text": [
      "Player 1 ('X'), enter your move (e.g., A2):  B4\n"
     ]
    },
    {
     "name": "stdout",
     "output_type": "stream",
     "text": [
      "Move accepted: B4\n",
      "   1 2 3 4 5\n",
      "  --- --- --- --- --- \n",
      "A | X | X | X | X | O |\n",
      "  --- --- --- --- --- \n",
      "B | X | O | O | X |   |\n",
      "  --- --- --- --- --- \n",
      "C |   |   | X |   |   |\n",
      "  --- --- --- --- --- \n",
      "D | O |   | O |   |   |\n",
      "  --- --- --- --- --- \n",
      "E |   |   |   |   | O |\n",
      "  --- --- --- --- --- \n",
      "Computer places 'O' at E3\n",
      "   1 2 3 4 5\n",
      "  --- --- --- --- --- \n",
      "A | X | X | X | X | O |\n",
      "  --- --- --- --- --- \n",
      "B | X | O | O | X |   |\n",
      "  --- --- --- --- --- \n",
      "C |   |   | X |   |   |\n",
      "  --- --- --- --- --- \n",
      "D | O |   | O |   |   |\n",
      "  --- --- --- --- --- \n",
      "E |   |   | O |   | O |\n",
      "  --- --- --- --- --- \n"
     ]
    },
    {
     "name": "stdin",
     "output_type": "stream",
     "text": [
      "Player 1 ('X'), enter your move (e.g., A2):  C4\n"
     ]
    },
    {
     "name": "stdout",
     "output_type": "stream",
     "text": [
      "Move accepted: C4\n",
      "   1 2 3 4 5\n",
      "  --- --- --- --- --- \n",
      "A | X | X | X | X | O |\n",
      "  --- --- --- --- --- \n",
      "B | X | O | O | X |   |\n",
      "  --- --- --- --- --- \n",
      "C |   |   | X | X |   |\n",
      "  --- --- --- --- --- \n",
      "D | O |   | O |   |   |\n",
      "  --- --- --- --- --- \n",
      "E |   |   | O |   | O |\n",
      "  --- --- --- --- --- \n",
      "Computer places 'O' at C2\n",
      "   1 2 3 4 5\n",
      "  --- --- --- --- --- \n",
      "A | X | X | X | X | O |\n",
      "  --- --- --- --- --- \n",
      "B | X | O | O | X |   |\n",
      "  --- --- --- --- --- \n",
      "C |   | O | X | X |   |\n",
      "  --- --- --- --- --- \n",
      "D | O |   | O |   |   |\n",
      "  --- --- --- --- --- \n",
      "E |   |   | O |   | O |\n",
      "  --- --- --- --- --- \n"
     ]
    },
    {
     "name": "stdin",
     "output_type": "stream",
     "text": [
      "Player 1 ('X'), enter your move (e.g., A2):  D4\n"
     ]
    },
    {
     "name": "stdout",
     "output_type": "stream",
     "text": [
      "Move accepted: D4\n",
      "   1 2 3 4 5\n",
      "  --- --- --- --- --- \n",
      "A | X | X | X | X | O |\n",
      "  --- --- --- --- --- \n",
      "B | X | O | O | X |   |\n",
      "  --- --- --- --- --- \n",
      "C |   | O | X | X |   |\n",
      "  --- --- --- --- --- \n",
      "D | O |   | O | X |   |\n",
      "  --- --- --- --- --- \n",
      "E |   |   | O |   | O |\n",
      "  --- --- --- --- --- \n",
      "Computer places 'O' at E4\n",
      "   1 2 3 4 5\n",
      "  --- --- --- --- --- \n",
      "A | X | X | X | X | O |\n",
      "  --- --- --- --- --- \n",
      "B | X | O | O | X |   |\n",
      "  --- --- --- --- --- \n",
      "C |   | O | X | X |   |\n",
      "  --- --- --- --- --- \n",
      "D | O |   | O | X |   |\n",
      "  --- --- --- --- --- \n",
      "E |   |   | O | O | O |\n",
      "  --- --- --- --- --- \n"
     ]
    },
    {
     "name": "stdin",
     "output_type": "stream",
     "text": [
      "Player 1 ('X'), enter your move (e.g., A2):  E2\n"
     ]
    },
    {
     "name": "stdout",
     "output_type": "stream",
     "text": [
      "Move accepted: E2\n",
      "   1 2 3 4 5\n",
      "  --- --- --- --- --- \n",
      "A | X | X | X | X | O |\n",
      "  --- --- --- --- --- \n",
      "B | X | O | O | X |   |\n",
      "  --- --- --- --- --- \n",
      "C |   | O | X | X |   |\n",
      "  --- --- --- --- --- \n",
      "D | O |   | O | X |   |\n",
      "  --- --- --- --- --- \n",
      "E |   | X | O | O | O |\n",
      "  --- --- --- --- --- \n",
      "Computer places 'O' at D2\n",
      "   1 2 3 4 5\n",
      "  --- --- --- --- --- \n",
      "A | X | X | X | X | O |\n",
      "  --- --- --- --- --- \n",
      "B | X | O | O | X |   |\n",
      "  --- --- --- --- --- \n",
      "C |   | O | X | X |   |\n",
      "  --- --- --- --- --- \n",
      "D | O | O | O | X |   |\n",
      "  --- --- --- --- --- \n",
      "E |   | X | O | O | O |\n",
      "  --- --- --- --- --- \n"
     ]
    },
    {
     "name": "stdin",
     "output_type": "stream",
     "text": [
      "Player 1 ('X'), enter your move (e.g., A2):  C1\n"
     ]
    },
    {
     "name": "stdout",
     "output_type": "stream",
     "text": [
      "Move accepted: C1\n",
      "   1 2 3 4 5\n",
      "  --- --- --- --- --- \n",
      "A | X | X | X | X | O |\n",
      "  --- --- --- --- --- \n",
      "B | X | O | O | X |   |\n",
      "  --- --- --- --- --- \n",
      "C | X | O | X | X |   |\n",
      "  --- --- --- --- --- \n",
      "D | O | O | O | X |   |\n",
      "  --- --- --- --- --- \n",
      "E |   | X | O | O | O |\n",
      "  --- --- --- --- --- \n",
      "Computer places 'O' at E1\n",
      "   1 2 3 4 5\n",
      "  --- --- --- --- --- \n",
      "A | X | X | X | X | O |\n",
      "  --- --- --- --- --- \n",
      "B | X | O | O | X |   |\n",
      "  --- --- --- --- --- \n",
      "C | X | O | X | X |   |\n",
      "  --- --- --- --- --- \n",
      "D | O | O | O | X |   |\n",
      "  --- --- --- --- --- \n",
      "E | O | X | O | O | O |\n",
      "  --- --- --- --- --- \n"
     ]
    },
    {
     "name": "stdin",
     "output_type": "stream",
     "text": [
      "Player 1 ('X'), enter your move (e.g., A2):  B5\n"
     ]
    },
    {
     "name": "stdout",
     "output_type": "stream",
     "text": [
      "Move accepted: B5\n",
      "   1 2 3 4 5\n",
      "  --- --- --- --- --- \n",
      "A | X | X | X | X | O |\n",
      "  --- --- --- --- --- \n",
      "B | X | O | O | X | X |\n",
      "  --- --- --- --- --- \n",
      "C | X | O | X | X |   |\n",
      "  --- --- --- --- --- \n",
      "D | O | O | O | X |   |\n",
      "  --- --- --- --- --- \n",
      "E | O | X | O | O | O |\n",
      "  --- --- --- --- --- \n",
      "Computer places 'O' at D5\n",
      "   1 2 3 4 5\n",
      "  --- --- --- --- --- \n",
      "A | X | X | X | X | O |\n",
      "  --- --- --- --- --- \n",
      "B | X | O | O | X | X |\n",
      "  --- --- --- --- --- \n",
      "C | X | O | X | X |   |\n",
      "  --- --- --- --- --- \n",
      "D | O | O | O | X | O |\n",
      "  --- --- --- --- --- \n",
      "E | O | X | O | O | O |\n",
      "  --- --- --- --- --- \n"
     ]
    },
    {
     "name": "stdin",
     "output_type": "stream",
     "text": [
      "Player 1 ('X'), enter your move (e.g., A2):  C5\n"
     ]
    },
    {
     "name": "stdout",
     "output_type": "stream",
     "text": [
      "Move accepted: C5\n",
      "   1 2 3 4 5\n",
      "  --- --- --- --- --- \n",
      "A | X | X | X | X | O |\n",
      "  --- --- --- --- --- \n",
      "B | X | O | O | X | X |\n",
      "  --- --- --- --- --- \n",
      "C | X | O | X | X | X |\n",
      "  --- --- --- --- --- \n",
      "D | O | O | O | X | O |\n",
      "  --- --- --- --- --- \n",
      "E | O | X | O | O | O |\n",
      "  --- --- --- --- --- \n",
      "The game is a draw!\n"
     ]
    }
   ],
   "source": [
    "### Write you solution here\n",
    "import random\n",
    "def draw_tic_tac_toe_board_with_labels(board):\n",
    "    board_size = len(board)\n",
    "    \n",
    "    print(\"   \" + \" \".join(str(i + 1) for i in range(board_size)))\n",
    " \n",
    "    for i in range(board_size):\n",
    "        print(\"  \" + \"--- \" * board_size)\n",
    "        row_label = chr(65 + i)\n",
    "        row = \" | \".join([\" \" if x == 0 else (\"X\" if x == 1 else \"O\") for x in board[i]])\n",
    "        print(f\"{row_label} | {row} |\")\n",
    "    print(\"  \" + \"--- \" * board_size)\n",
    "\n",
    "def player_move(board, player):\n",
    "    while True:\n",
    "        move = input(f\"Player {player} ('{'X' if player == 1 else 'O'}'), enter your move (e.g., A2): \").upper()\n",
    "        if len(move) == 2 and move[0] in \"ABCDE\" and move[1].isdigit():\n",
    "            row = ord(move[0]) - 65\n",
    "            col = int(move[1]) - 1\n",
    "            if row < len(board) and col < len(board) and board[row][col] == 0:\n",
    "                board[row][col] = player\n",
    "                print(f\"Move accepted: {move}\")\n",
    "                return True\n",
    "        print(\"Invalid move. Please try again.\")\n",
    "\n",
    "def check_tic_tac_toe_winner(board):\n",
    "    board_size = len(board)\n",
    "    \n",
    "    for i in range(board_size):\n",
    "        if board[i].count(board[i][0]) == board_size and board[i][0] != 0:\n",
    "            return board[i][0]\n",
    "        col = [board[j][i] for j in range(board_size)]\n",
    "        if col.count(col[0]) == board_size and col[0] != 0:\n",
    "            return col[0]\n",
    "    \n",
    "    if all(board[i][i] == board[0][0] and board[i][i] != 0 for i in range(board_size)):\n",
    "        return board[0][0]\n",
    "    if all(board[i][board_size - 1 - i] == board[0][board_size - 1] and board[i][board_size - 1 - i] != 0 for i in range(board_size)):\n",
    "        return board[0][board_size - 1]\n",
    "    \n",
    "    if all(board[i][j] != 0 for i in range(board_size) for j in range(board_size)):\n",
    "        return 0\n",
    "    \n",
    "    return -1\n",
    "\n",
    "def computer_move(board, player):\n",
    "    opponent = 2 if player == 1 else 1\n",
    "    \n",
    "    for i in range(len(board)):\n",
    "\n",
    "        if board[i].count(player) == len(board) - 1 and board[i].count(0) == 1:\n",
    "            return place_computer_move(board, i, board[i].index(0))\n",
    "        \n",
    "        col = [board[j][i] for j in range(len(board))]\n",
    "        if col.count(player) == len(board) - 1 and col.count(0) == 1:\n",
    "            return place_computer_move(board, col.index(0), i)\n",
    "\n",
    "    main_diag = [board[i][i] for i in range(len(board))]\n",
    "    anti_diag = [board[i][len(board) - 1 - i] for i in range(len(board))]\n",
    "    \n",
    "    if main_diag.count(player) == len(board) - 1 and main_diag.count(0) == 1:\n",
    "        return place_computer_move(board, main_diag.index(0), main_diag.index(0))\n",
    "    if anti_diag.count(player) == len(board) - 1 and anti_diag.count(0) == 1:\n",
    "        idx = anti_diag.index(0)\n",
    "        return place_computer_move(board, idx, len(board) - 1 - idx)\n",
    "\n",
    "    for i in range(len(board)):\n",
    "        if board[i].count(opponent) == len(board) - 1 and board[i].count(0) == 1:\n",
    "            return place_computer_move(board, i, board[i].index(0))\n",
    "        \n",
    "        col = [board[j][i] for j in range(len(board))]\n",
    "        if col.count(opponent) == len(board) - 1 and col.count(0) == 1:\n",
    "            return place_computer_move(board, col.index(0), i)\n",
    "    \n",
    "    if main_diag.count(opponent) == len(board) - 1 and main_diag.count(0) == 1:\n",
    "        return place_computer_move(board, main_diag.index(0), main_diag.index(0))\n",
    "    if anti_diag.count(opponent) == len(board) - 1 and anti_diag.count(0) == 1:\n",
    "        idx = anti_diag.index(0)\n",
    "        return place_computer_move(board, idx, len(board) - 1 - idx)\n",
    "\n",
    "    return make_random_move(board)\n",
    "\n",
    "def place_computer_move(board, x, y):\n",
    "    if board[x][y] == 0:\n",
    "        board[x][y] = 2  # Computer is player 2 ('O')\n",
    "        print(f\"Computer places 'O' at {chr(x + 65)}{y + 1}\")\n",
    "        return True\n",
    "    return False\n",
    "\n",
    "def make_random_move(board):\n",
    "    empty_positions = [(i, j) for i in range(len(board)) for j in range(len(board[i])) if board[i][j] == 0]\n",
    "    if empty_positions:\n",
    "        x, y = random.choice(empty_positions)\n",
    "        board[x][y] = 2  # Computer is player 2 ('O')\n",
    "        print(f\"Computer places 'O' at {chr(x + 65)}{y + 1}\")\n",
    "        return True\n",
    "    return False\n",
    "    \n",
    "def tic_tac_toe_game_with_computer():\n",
    "\n",
    "    board_size = 5\n",
    "    board = [[0 for _ in range(board_size)] for _ in range(board_size)]\n",
    "    \n",
    "    game_status = -1  \n",
    "    human_player = 1\n",
    "    computer_player = 2\n",
    "    current_player = human_player  \n",
    "    \n",
    "    while game_status == -1:\n",
    "\n",
    "        draw_tic_tac_toe_board_with_labels(board)\n",
    "        \n",
    "        if current_player == human_player:\n",
    "\n",
    "            player_move(board, human_player)\n",
    "        else:\n",
    "\n",
    "            computer_move(board, computer_player)\n",
    "\n",
    "\n",
    "        game_status = check_tic_tac_toe_winner(board)\n",
    "\n",
    "\n",
    "        current_player = computer_player if current_player == human_player else human_player\n",
    "\n",
    "    draw_tic_tac_toe_board_with_labels(board)\n",
    "\n",
    "    if game_status == 1:\n",
    "        print(\"Player 1 ('X') wins!\")\n",
    "    elif game_status == 2:\n",
    "        print(\"Computer ('O') wins!\")\n",
    "    else:\n",
    "        print(\"The game is a draw!\")\n",
    "\n",
    "\n",
    "tic_tac_toe_game_with_computer()\n",
    "\n",
    "\n"
   ]
  },
  {
   "cell_type": "code",
   "execution_count": null,
   "metadata": {
    "collapsed": true,
    "jupyter": {
     "outputs_hidden": true
    }
   },
   "outputs": [],
   "source": [
    "# Test your solution here"
   ]
  }
 ],
 "metadata": {
  "kernelspec": {
   "display_name": "Python 3 (ipykernel)",
   "language": "python",
   "name": "python3"
  },
  "language_info": {
   "codemirror_mode": {
    "name": "ipython",
    "version": 3
   },
   "file_extension": ".py",
   "mimetype": "text/x-python",
   "name": "python",
   "nbconvert_exporter": "python",
   "pygments_lexer": "ipython3",
   "version": "3.11.5"
  }
 },
 "nbformat": 4,
 "nbformat_minor": 4
}
